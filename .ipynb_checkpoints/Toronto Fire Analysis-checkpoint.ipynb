{
 "cells": [
  {
   "cell_type": "markdown",
   "metadata": {},
   "source": [
    "# Toronto Fire Incident Analysis\n",
    "Analysis of Toronto Fire Incident data with\n",
    "Data from the Toronto Open Data Portal https://open.toronto.ca/dataset/fire-incidents/\n",
    "\n",
    "## Questions to Answer  \n",
    "1. Is there a large variability in response time by the different stations?  \n",
    "2. Is the geo-spatial distribution of fire stations appropriate to all the locations? \n",
    "\n",
    "\n",
    "## Data Extraction"
   ]
  },
  {
   "cell_type": "code",
   "execution_count": 140,
   "metadata": {},
   "outputs": [],
   "source": [
    "import numpy as np\n",
    "import sklearn as sk\n",
    "import datetime as dt\n",
    "import matplotlib.pyplot as plt\n",
    "import seaborn as sns\n",
    "import pandas as pd\n",
    "import missingno as msno\n",
    "import geopandas as gpd\n",
    "from shapely.geometry import Point\n",
    "\n",
    "sns.set_palette(\"colorblind\")"
   ]
  },
  {
   "cell_type": "code",
   "execution_count": 141,
   "metadata": {},
   "outputs": [
    {
     "data": {
      "text/plain": [
       "12687"
      ]
     },
     "execution_count": 141,
     "metadata": {},
     "output_type": "execute_result"
    }
   ],
   "source": [
    "#Download data directly from the Toronto Open Data Portal\n",
    "url = 'https://ckan0.cf.opendata.inter.prod-toronto.ca/download_resource/fa5c7de5-10f8-41cf-883a-9b30a67c7b56?format=csv'\n",
    "df = pd.read_csv(url)\n",
    "len(df)"
   ]
  },
  {
   "cell_type": "code",
   "execution_count": 142,
   "metadata": {},
   "outputs": [
    {
     "data": {
      "text/plain": [
       "_id                                                                int64\n",
       "Area_of_Origin                                                    object\n",
       "Building_Status                                                   object\n",
       "Business_Impact                                                   object\n",
       "Civilian_Casualties                                                int64\n",
       "Count_of_Persons_Rescued                                           int64\n",
       "Estimated_Dollar_Loss                                            float64\n",
       "Estimated_Number_Of_Persons_Displaced                            float64\n",
       "Exposures                                                        float64\n",
       "Ext_agent_app_or_defer_time                                       object\n",
       "Extent_Of_Fire                                                    object\n",
       "Final_Incident_Type                                               object\n",
       "Fire_Alarm_System_Impact_on_Evacuation                            object\n",
       "Fire_Alarm_System_Operation                                       object\n",
       "Fire_Alarm_System_Presence                                        object\n",
       "Fire_Under_Control_Time                                           object\n",
       "Ignition_Source                                                   object\n",
       "Incident_Number                                                   object\n",
       "Incident_Station_Area                                              int64\n",
       "Incident_Ward                                                    float64\n",
       "Initial_CAD_Event_Type                                            object\n",
       "Intersection                                                      object\n",
       "Last_TFS_Unit_Clear_Time                                          object\n",
       "Latitude                                                         float64\n",
       "Level_Of_Origin                                                   object\n",
       "Longitude                                                        float64\n",
       "Material_First_Ignited                                            object\n",
       "Method_Of_Fire_Control                                            object\n",
       "Number_of_responding_apparatus                                     int64\n",
       "Number_of_responding_personnel                                     int64\n",
       "Possible_Cause                                                    object\n",
       "Property_Use                                                      object\n",
       "Smoke_Alarm_at_Fire_Origin                                        object\n",
       "Smoke_Alarm_at_Fire_Origin_Alarm_Failure                          object\n",
       "Smoke_Alarm_at_Fire_Origin_Alarm_Type                             object\n",
       "Smoke_Alarm_Impact_on_Persons_Evacuating_Impact_on_Evacuation     object\n",
       "Smoke_Spread                                                      object\n",
       "Sprinkler_System_Operation                                        object\n",
       "Sprinkler_System_Presence                                         object\n",
       "Status_of_Fire_On_Arrival                                         object\n",
       "TFS_Alarm_Time                                                    object\n",
       "TFS_Arrival_Time                                                  object\n",
       "TFS_Firefighter_Casualties                                         int64\n",
       "dtype: object"
      ]
     },
     "execution_count": 142,
     "metadata": {},
     "output_type": "execute_result"
    }
   ],
   "source": [
    "df.dtypes"
   ]
  },
  {
   "cell_type": "code",
   "execution_count": 143,
   "metadata": {},
   "outputs": [
    {
     "data": {
      "text/html": [
       "<div>\n",
       "<style scoped>\n",
       "    .dataframe tbody tr th:only-of-type {\n",
       "        vertical-align: middle;\n",
       "    }\n",
       "\n",
       "    .dataframe tbody tr th {\n",
       "        vertical-align: top;\n",
       "    }\n",
       "\n",
       "    .dataframe thead th {\n",
       "        text-align: right;\n",
       "    }\n",
       "</style>\n",
       "<table border=\"1\" class=\"dataframe\">\n",
       "  <thead>\n",
       "    <tr style=\"text-align: right;\">\n",
       "      <th></th>\n",
       "      <th>Area_of_Origin</th>\n",
       "      <th>Building_Status</th>\n",
       "      <th>Business_Impact</th>\n",
       "      <th>Civilian_Casualties</th>\n",
       "      <th>Count_of_Persons_Rescued</th>\n",
       "      <th>Estimated_Dollar_Loss</th>\n",
       "      <th>Estimated_Number_Of_Persons_Displaced</th>\n",
       "      <th>Exposures</th>\n",
       "      <th>Ext_agent_app_or_defer_time</th>\n",
       "      <th>Extent_Of_Fire</th>\n",
       "      <th>...</th>\n",
       "      <th>Smoke_Alarm_at_Fire_Origin_Alarm_Failure</th>\n",
       "      <th>Smoke_Alarm_at_Fire_Origin_Alarm_Type</th>\n",
       "      <th>Smoke_Alarm_Impact_on_Persons_Evacuating_Impact_on_Evacuation</th>\n",
       "      <th>Smoke_Spread</th>\n",
       "      <th>Sprinkler_System_Operation</th>\n",
       "      <th>Sprinkler_System_Presence</th>\n",
       "      <th>Status_of_Fire_On_Arrival</th>\n",
       "      <th>TFS_Alarm_Time</th>\n",
       "      <th>TFS_Arrival_Time</th>\n",
       "      <th>TFS_Firefighter_Casualties</th>\n",
       "    </tr>\n",
       "  </thead>\n",
       "  <tbody>\n",
       "    <tr>\n",
       "      <td>0</td>\n",
       "      <td>81 - Engine Area</td>\n",
       "      <td>NaN</td>\n",
       "      <td>NaN</td>\n",
       "      <td>0</td>\n",
       "      <td>0</td>\n",
       "      <td>1000.0</td>\n",
       "      <td>NaN</td>\n",
       "      <td>NaN</td>\n",
       "      <td>2015-08-29T11:52:31</td>\n",
       "      <td>NaN</td>\n",
       "      <td>...</td>\n",
       "      <td>NaN</td>\n",
       "      <td>NaN</td>\n",
       "      <td>NaN</td>\n",
       "      <td>NaN</td>\n",
       "      <td>NaN</td>\n",
       "      <td>NaN</td>\n",
       "      <td>3 - Fire with smoke showing only - including v...</td>\n",
       "      <td>2015-08-29T11:52:04</td>\n",
       "      <td>2015-08-29T11:52:19</td>\n",
       "      <td>0</td>\n",
       "    </tr>\n",
       "    <tr>\n",
       "      <td>1</td>\n",
       "      <td>22 - Sleeping Area or Bedroom (inc. patients r...</td>\n",
       "      <td>01 - Normal (no change)</td>\n",
       "      <td>8 - Not applicable (not a business)</td>\n",
       "      <td>0</td>\n",
       "      <td>0</td>\n",
       "      <td>20.0</td>\n",
       "      <td>0.0</td>\n",
       "      <td>NaN</td>\n",
       "      <td>2017-07-02T21:39:00</td>\n",
       "      <td>1 - Confined to object of origin</td>\n",
       "      <td>...</td>\n",
       "      <td>98 - Not applicable: Alarm operated OR presenc...</td>\n",
       "      <td>9 - Type undetermined</td>\n",
       "      <td>7 - Not applicable: Occupant(s) first alerted ...</td>\n",
       "      <td>2 - Confined to part of room/area of origin</td>\n",
       "      <td>8 - Not applicable - no sprinkler system present</td>\n",
       "      <td>3 - No sprinkler system</td>\n",
       "      <td>1 - Fire extinguished prior to arrival</td>\n",
       "      <td>2017-07-02T21:33:06</td>\n",
       "      <td>2017-07-02T21:35:59</td>\n",
       "      <td>0</td>\n",
       "    </tr>\n",
       "    <tr>\n",
       "      <td>2</td>\n",
       "      <td>81 - Engine Area</td>\n",
       "      <td>NaN</td>\n",
       "      <td>NaN</td>\n",
       "      <td>0</td>\n",
       "      <td>0</td>\n",
       "      <td>5000.0</td>\n",
       "      <td>NaN</td>\n",
       "      <td>NaN</td>\n",
       "      <td>2015-02-13T18:46:00</td>\n",
       "      <td>NaN</td>\n",
       "      <td>...</td>\n",
       "      <td>NaN</td>\n",
       "      <td>NaN</td>\n",
       "      <td>NaN</td>\n",
       "      <td>NaN</td>\n",
       "      <td>NaN</td>\n",
       "      <td>NaN</td>\n",
       "      <td>4 - Flames showing from small area (one storey...</td>\n",
       "      <td>2015-02-13T18:44:29</td>\n",
       "      <td>2015-02-13T18:45:35</td>\n",
       "      <td>0</td>\n",
       "    </tr>\n",
       "    <tr>\n",
       "      <td>3</td>\n",
       "      <td>99 - Undetermined  (formerly 98)</td>\n",
       "      <td>NaN</td>\n",
       "      <td>NaN</td>\n",
       "      <td>0</td>\n",
       "      <td>0</td>\n",
       "      <td>7500.0</td>\n",
       "      <td>NaN</td>\n",
       "      <td>NaN</td>\n",
       "      <td>2015-02-14T20:16:25</td>\n",
       "      <td>NaN</td>\n",
       "      <td>...</td>\n",
       "      <td>NaN</td>\n",
       "      <td>NaN</td>\n",
       "      <td>NaN</td>\n",
       "      <td>NaN</td>\n",
       "      <td>NaN</td>\n",
       "      <td>NaN</td>\n",
       "      <td>7 - Fully involved (total structure, vehicle, ...</td>\n",
       "      <td>2015-02-14T20:10:16</td>\n",
       "      <td>2015-02-14T20:13:03</td>\n",
       "      <td>0</td>\n",
       "    </tr>\n",
       "    <tr>\n",
       "      <td>4</td>\n",
       "      <td>81 - Engine Area</td>\n",
       "      <td>NaN</td>\n",
       "      <td>NaN</td>\n",
       "      <td>0</td>\n",
       "      <td>0</td>\n",
       "      <td>10000.0</td>\n",
       "      <td>NaN</td>\n",
       "      <td>NaN</td>\n",
       "      <td>2014-05-25T23:50:52</td>\n",
       "      <td>NaN</td>\n",
       "      <td>...</td>\n",
       "      <td>NaN</td>\n",
       "      <td>NaN</td>\n",
       "      <td>NaN</td>\n",
       "      <td>NaN</td>\n",
       "      <td>NaN</td>\n",
       "      <td>NaN</td>\n",
       "      <td>7 - Fully involved (total structure, vehicle, ...</td>\n",
       "      <td>2014-05-25T23:44:10</td>\n",
       "      <td>2014-05-25T23:49:51</td>\n",
       "      <td>0</td>\n",
       "    </tr>\n",
       "  </tbody>\n",
       "</table>\n",
       "<p>5 rows × 41 columns</p>\n",
       "</div>"
      ],
      "text/plain": [
       "                                      Area_of_Origin          Building_Status  \\\n",
       "0                                   81 - Engine Area                      NaN   \n",
       "1  22 - Sleeping Area or Bedroom (inc. patients r...  01 - Normal (no change)   \n",
       "2                                   81 - Engine Area                      NaN   \n",
       "3                   99 - Undetermined  (formerly 98)                      NaN   \n",
       "4                                   81 - Engine Area                      NaN   \n",
       "\n",
       "                       Business_Impact  Civilian_Casualties  \\\n",
       "0                                  NaN                    0   \n",
       "1  8 - Not applicable (not a business)                    0   \n",
       "2                                  NaN                    0   \n",
       "3                                  NaN                    0   \n",
       "4                                  NaN                    0   \n",
       "\n",
       "   Count_of_Persons_Rescued  Estimated_Dollar_Loss  \\\n",
       "0                         0                 1000.0   \n",
       "1                         0                   20.0   \n",
       "2                         0                 5000.0   \n",
       "3                         0                 7500.0   \n",
       "4                         0                10000.0   \n",
       "\n",
       "   Estimated_Number_Of_Persons_Displaced  Exposures  \\\n",
       "0                                    NaN        NaN   \n",
       "1                                    0.0        NaN   \n",
       "2                                    NaN        NaN   \n",
       "3                                    NaN        NaN   \n",
       "4                                    NaN        NaN   \n",
       "\n",
       "  Ext_agent_app_or_defer_time                    Extent_Of_Fire  ...  \\\n",
       "0         2015-08-29T11:52:31                               NaN  ...   \n",
       "1         2017-07-02T21:39:00  1 - Confined to object of origin  ...   \n",
       "2         2015-02-13T18:46:00                               NaN  ...   \n",
       "3         2015-02-14T20:16:25                               NaN  ...   \n",
       "4         2014-05-25T23:50:52                               NaN  ...   \n",
       "\n",
       "            Smoke_Alarm_at_Fire_Origin_Alarm_Failure  \\\n",
       "0                                                NaN   \n",
       "1  98 - Not applicable: Alarm operated OR presenc...   \n",
       "2                                                NaN   \n",
       "3                                                NaN   \n",
       "4                                                NaN   \n",
       "\n",
       "  Smoke_Alarm_at_Fire_Origin_Alarm_Type  \\\n",
       "0                                   NaN   \n",
       "1                 9 - Type undetermined   \n",
       "2                                   NaN   \n",
       "3                                   NaN   \n",
       "4                                   NaN   \n",
       "\n",
       "  Smoke_Alarm_Impact_on_Persons_Evacuating_Impact_on_Evacuation  \\\n",
       "0                                                NaN              \n",
       "1  7 - Not applicable: Occupant(s) first alerted ...              \n",
       "2                                                NaN              \n",
       "3                                                NaN              \n",
       "4                                                NaN              \n",
       "\n",
       "                                  Smoke_Spread  \\\n",
       "0                                          NaN   \n",
       "1  2 - Confined to part of room/area of origin   \n",
       "2                                          NaN   \n",
       "3                                          NaN   \n",
       "4                                          NaN   \n",
       "\n",
       "                         Sprinkler_System_Operation Sprinkler_System_Presence  \\\n",
       "0                                               NaN                       NaN   \n",
       "1  8 - Not applicable - no sprinkler system present   3 - No sprinkler system   \n",
       "2                                               NaN                       NaN   \n",
       "3                                               NaN                       NaN   \n",
       "4                                               NaN                       NaN   \n",
       "\n",
       "                           Status_of_Fire_On_Arrival       TFS_Alarm_Time  \\\n",
       "0  3 - Fire with smoke showing only - including v...  2015-08-29T11:52:04   \n",
       "1             1 - Fire extinguished prior to arrival  2017-07-02T21:33:06   \n",
       "2  4 - Flames showing from small area (one storey...  2015-02-13T18:44:29   \n",
       "3  7 - Fully involved (total structure, vehicle, ...  2015-02-14T20:10:16   \n",
       "4  7 - Fully involved (total structure, vehicle, ...  2014-05-25T23:44:10   \n",
       "\n",
       "      TFS_Arrival_Time TFS_Firefighter_Casualties  \n",
       "0  2015-08-29T11:52:19                          0  \n",
       "1  2017-07-02T21:35:59                          0  \n",
       "2  2015-02-13T18:45:35                          0  \n",
       "3  2015-02-14T20:13:03                          0  \n",
       "4  2014-05-25T23:49:51                          0  \n",
       "\n",
       "[5 rows x 41 columns]"
      ]
     },
     "execution_count": 143,
     "metadata": {},
     "output_type": "execute_result"
    }
   ],
   "source": [
    "df.drop(columns=['Incident_Number','_id'], inplace=True)\n",
    "df.head()"
   ]
  },
  {
   "cell_type": "code",
   "execution_count": 144,
   "metadata": {},
   "outputs": [],
   "source": [
    "#Properly designate datetime cols datatypes\n",
    "datetime_cols = ['TFS_Alarm_Time',\n",
    "             'TFS_Arrival_Time',\n",
    "             'Last_TFS_Unit_Clear_Time',\n",
    "             'Fire_Under_Control_Time',\n",
    "             'Ext_agent_app_or_defer_time']\n",
    "\n",
    "for col in datetime_cols:\n",
    "    df[col] = pd.to_datetime(df[col], infer_datetime_format=True)\n",
    "\n",
    "#set variables for Month & Year\n",
    "df['year'] = pd.DatetimeIndex(df.TFS_Alarm_Time).year\n",
    "df['month']= pd.DatetimeIndex(df.TFS_Alarm_Time).month"
   ]
  },
  {
   "cell_type": "code",
   "execution_count": null,
   "metadata": {},
   "outputs": [
    {
     "name": "stderr",
     "output_type": "stream",
     "text": [
      "/home/mparravani/anaconda3/envs/geoanalysis/lib/python3.7/site-packages/numpy/lib/histograms.py:829: RuntimeWarning: invalid value encountered in greater_equal\n",
      "  keep = (tmp_a >= first_edge)\n",
      "/home/mparravani/anaconda3/envs/geoanalysis/lib/python3.7/site-packages/numpy/lib/histograms.py:830: RuntimeWarning: invalid value encountered in less_equal\n",
      "  keep &= (tmp_a <= last_edge)\n"
     ]
    }
   ],
   "source": [
    "#Make pairplot using seaborn to establish any trends / correlations\n",
    "\n",
    "#pull number cols, ignoring certian cols\n",
    "ignorecols = ['Latitude','Longitude', 'Incident_Station_Area','Incident_Ward','year','month']\n",
    "numcols = df.drop(columns=ignorecols).select_dtypes(include=['int64','float64']).columns\n",
    "\n",
    "sns.pairplot(df[numcols])\n",
    "plt.show()"
   ]
  },
  {
   "cell_type": "markdown",
   "metadata": {},
   "source": [
    "Looks like most of the time, no one is requiring rescuing and there are no casualties    \n",
    "there's also a strong correlation between the number of responding personel and apparatus (as one would think)   \n"
   ]
  },
  {
   "cell_type": "code",
   "execution_count": null,
   "metadata": {},
   "outputs": [],
   "source": [
    "#Check for missing values - establish missing % for each col\n",
    "df.isna().sum() / len(df)*100"
   ]
  },
  {
   "cell_type": "markdown",
   "metadata": {},
   "source": [
    "From the above, it seems as many columns are missing the same amount of data. Lets check if this data is missing in the same rows"
   ]
  },
  {
   "cell_type": "code",
   "execution_count": null,
   "metadata": {},
   "outputs": [],
   "source": [
    "#check if there is correlation in missing data\n",
    "msno.matrix(df)"
   ]
  },
  {
   "cell_type": "markdown",
   "metadata": {},
   "source": [
    "From the above, it looks as though there is correlation in the missing data - it must be that certian buildings were not documented.\n",
    "Assuming that \"Exposures\" is 0 unless otherwise stated."
   ]
  },
  {
   "cell_type": "code",
   "execution_count": null,
   "metadata": {},
   "outputs": [],
   "source": [
    "df.Exposures.value_counts()"
   ]
  },
  {
   "cell_type": "code",
   "execution_count": null,
   "metadata": {},
   "outputs": [],
   "source": [
    "df.Exposures.fillna(0, inplace = True)\n",
    "df.Exposures.value_counts()"
   ]
  },
  {
   "cell_type": "markdown",
   "metadata": {},
   "source": [
    "Fill Empty Values in Incident Ward"
   ]
  },
  {
   "cell_type": "code",
   "execution_count": null,
   "metadata": {},
   "outputs": [],
   "source": [
    "#Fill empty wards with most common ward for the station area\n",
    "\n",
    "#find most common ward for each station area\n",
    "ward_fill = df.groupby(by = 'Incident_Station_Area')['Incident_Ward'].agg(lambda x:x.value_counts().index[0]).to_dict() \n",
    "\n",
    "#fillna using a map from the station area col\n",
    "df.Incident_Ward.fillna(df.Incident_Station_Area.map(ward_fill), inplace=True)"
   ]
  },
  {
   "cell_type": "code",
   "execution_count": null,
   "metadata": {},
   "outputs": [],
   "source": [
    "#Plot distribution of fires by cost\n",
    "fig, ax = plt.subplots()\n",
    "fig.set_size_inches(12, 6)\n",
    "sns.violinplot(df.dropna().Estimated_Dollar_Loss)\n",
    "plt.title('Distribution of Fire Damage Costs')\n",
    "plt.xlabel('Estaimated Fire Loss')\n",
    "\n",
    "plt.show()"
   ]
  },
  {
   "cell_type": "code",
   "execution_count": null,
   "metadata": {},
   "outputs": [],
   "source": [
    "#Plot distribution of fires by cost\n",
    "fig, ax = plt.subplots()\n",
    "fig.set_size_inches(12, 6)\n",
    "sns.violinplot(df.dropna().Civilian_Casualties)\n",
    "plt.title('Distribution of Casualties')\n",
    "plt.xlabel('Civilian Casualties')\n",
    "\n",
    "plt.show()"
   ]
  },
  {
   "cell_type": "markdown",
   "metadata": {},
   "source": [
    "This is great news - that most fires have no casualties, while very few only have 1 or 2."
   ]
  },
  {
   "cell_type": "markdown",
   "metadata": {},
   "source": [
    "## Question 1 - Activity and Response Time by Station"
   ]
  },
  {
   "cell_type": "code",
   "execution_count": null,
   "metadata": {},
   "outputs": [],
   "source": [
    "#Distribution of Fire count by station\n",
    "fig, ax = plt.subplots()\n",
    "fig.set_size_inches(20, 6)\n",
    "df['Incident_Station_Area'].value_counts().plot(kind = 'bar')\n",
    "plt.title('Number of Fires per Station')\n",
    "plt.xlabel('Station Number')\n",
    "\n",
    "plt.show()"
   ]
  },
  {
   "cell_type": "code",
   "execution_count": null,
   "metadata": {},
   "outputs": [],
   "source": [
    "#Plot out Response Times by station\n",
    "\n",
    "#calculate response time for each fire\n",
    "df['TFS_Response_Time'] = df.apply(lambda x: (x.TFS_Arrival_Time-x.TFS_Alarm_Time).seconds, axis = 1)\n",
    "\n",
    "fig, ax = plt.subplots()\n",
    "fig.set_size_inches(20, 6)\n",
    "df.groupby('Incident_Station_Area')['TFS_Response_Time'].mean().sort_values(ascending = False).plot(kind = 'bar')\n",
    "plt.title('Station Average Response Time')\n",
    "plt.xlabel('Station Number')\n",
    "plt.ylabel('Average Response Time (s)')\n",
    "\n",
    "plt.show()\n"
   ]
  },
  {
   "cell_type": "code",
   "execution_count": null,
   "metadata": {},
   "outputs": [],
   "source": [
    "#recreating the above with boxplots to see if there are outliers\n",
    "\n",
    "tmp = df.groupby(by = 'Incident_Station_Area', as_index = False)['TFS_Response_Time'].mean()\n",
    "tmp.sort_values(by='TFS_Response_Time', ascending = False, inplace = True)\n",
    "\n",
    "sns.catplot(data = df, x = 'Incident_Station_Area', y = 'TFS_Response_Time', kind = 'box', height = 8, aspect = 2, order = tmp.Incident_Station_Area)\n",
    "plt.title('Station Average Response Time')\n",
    "plt.xlabel('Station Number')\n",
    "plt.ylabel('Average Response Time (s)')\n",
    "plt.xticks(rotation=90)\n",
    "\n",
    "plt.show()\n"
   ]
  },
  {
   "cell_type": "code",
   "execution_count": null,
   "metadata": {},
   "outputs": [],
   "source": [
    "#There's one obvious outlier, lets recompile the above excluding that outlier\n",
    "\n",
    "tmp = df[df.TFS_Response_Time<40000].groupby(by = 'Incident_Station_Area', as_index = False)['TFS_Response_Time'].mean()\n",
    "tmp.sort_values(by='TFS_Response_Time', ascending = False, inplace = True)\n",
    "\n",
    "sns.catplot(data = df[df.TFS_Response_Time<40000], \n",
    "            x = 'Incident_Station_Area', \n",
    "            y = 'TFS_Response_Time', \n",
    "            kind = 'box', \n",
    "            height = 8, \n",
    "            aspect = 2, \n",
    "            color = 'steelblue',\n",
    "            order = tmp.Incident_Station_Area)\n",
    "plt.title('Station Average Response Time')\n",
    "plt.xlabel('Station Number')\n",
    "plt.ylabel('Average Response Time (s)')\n",
    "plt.xticks(rotation=90)\n",
    "\n",
    "plt.show()\n",
    "\n",
    "#without the outlier, station 326 is now one of the top performers wrt average response time\n"
   ]
  },
  {
   "cell_type": "code",
   "execution_count": null,
   "metadata": {},
   "outputs": [],
   "source": [
    "#looking at variability of distributions\n",
    "fig, ax = plt.subplots()\n",
    "fig.set_size_inches(12, 6)\n",
    "\n",
    "for stn in list(set(fire_gdf.Incident_Station_Area)):\n",
    "    sns.distplot(fire_gdf.loc[(fire_gdf.TFS_Response_Time<40000) &(fire_gdf.Incident_Station_Area==stn)]['TFS_Response_Time'], hist = False)\n",
    "\n",
    "sns.distplot(fire_gdf.loc[(fire_gdf.TFS_Response_Time<40000)]['TFS_Response_Time'], hist = False, color = 'black',kde_kws={\"linewidth\": 5})\n",
    "\n",
    "plt.title('KDE for Station Response Times (Black for Aggregate)')\n",
    "plt.xlabel('TFS Response Time (s)')\n",
    "\n",
    "plt.show()"
   ]
  },
  {
   "cell_type": "markdown",
   "metadata": {},
   "source": [
    "## Question 2 - Geospatial Distribution of Fire vs Stations"
   ]
  },
  {
   "cell_type": "code",
   "execution_count": null,
   "metadata": {},
   "outputs": [],
   "source": [
    "#load in neighborhoods shapefile\n",
    "map_df = gpd.read_file('neighbourhoods_planning_areas_wgs84/NEIGHBORHOODS_WGS84.shp')\n",
    "\n",
    "#load in firestations shapefile\n",
    "firestation_gdf = gpd.read_file('fire-station-locations-wgs84/FIRE_FACILITY_WGS84.shp')\n",
    "\n",
    "def geo_toronto_optimize(gdf, column):\n",
    "    '''\n",
    "        Converts coordinate columns of a geopandas dataframe to epsg 2019, and rotates for optimal viewing of Toronto \n",
    "        \n",
    "        INPUT:\n",
    "        gdf - a geopandas dataframe containing a column of coordinates \n",
    "        coord_col - column requiring to be converted\n",
    "\n",
    "        OUTPUT:\n",
    "        gdf - a geopandas dataframe with a converted column optimal for plotting Toronto\n",
    "    '''\n",
    "\n",
    "    gdf[column] = gdf[column].to_crs(epsg=2019)\n",
    "    gdf[column] = gdf[column].rotate(angle = -17, origin=(315000,4840000), use_radians=False)\n",
    "    \n",
    "    return gdf\n",
    "\n",
    "\n",
    "#prepare fire data coordinates\n",
    "df['coordinates']=list(zip(df.Longitude, df.Latitude))\n",
    "df['coordinates'] = df['coordinates'].apply(Point)\n",
    "\n",
    "crs = {'init': 'epsg:4326'} #initialize crs\n",
    "fire_gdf = gpd.GeoDataFrame(df, crs=crs,geometry='coordinates')\n",
    "\n",
    "#update crs and rotate all datasets for better plotting\n",
    "map_df = geo_toronto_optimize(map_df, 'geometry')\n",
    "firestation_gdf = geo_toronto_optimize(firestation_gdf, 'geometry')\n",
    "fire_gdf = geo_toronto_optimize(fire_gdf, 'coordinates')\n",
    "\n",
    "#get fire data lon and lat for crs2019\n",
    "fire_gdf['lon_crs2019'] = fire_gdf.coordinates.x\n",
    "fire_gdf['lat_crs2019'] = fire_gdf.coordinates.y\n",
    "\n",
    "\n",
    "firestation_gdf.NAME=firestation_gdf.NAME.apply(lambda x: x.split('FIRE STATION ')[1])\n"
   ]
  },
  {
   "cell_type": "code",
   "execution_count": null,
   "metadata": {},
   "outputs": [],
   "source": [
    "#plot all fires\n",
    "xlim = (292500,340000)\n",
    "ylim = (4828000,4855000)\n",
    "\n",
    "fig, ax = plt.subplots()\n",
    "fig.set_size_inches(15, 8)\n",
    "map_df.plot(ax=ax, color='white',edgecolor = 'grey')\n",
    "firestation_gdf.plot(ax=ax, color='black', label='Fire Station')\n",
    "sns.scatterplot(\"lon_crs2019\", \"lat_crs2019\", data=fire_gdf,color = 'firebrick', edgecolor = None ,alpha = 0.05, label = 'Fire Incident')\n",
    "\n",
    "plt.xlim(xlim)\n",
    "plt.ylim(ylim)\n",
    "ax.axis('off')\n",
    "plt.title('Fire Locations', fontsize = 16)\n",
    "plt.legend()\n",
    "\n",
    "plt.show()"
   ]
  },
  {
   "cell_type": "markdown",
   "metadata": {},
   "source": [
    "Seems as the highest concentration of fires are reported downtown, along with a high densite of fire stations"
   ]
  },
  {
   "cell_type": "code",
   "execution_count": null,
   "metadata": {},
   "outputs": [],
   "source": []
  },
  {
   "cell_type": "code",
   "execution_count": null,
   "metadata": {},
   "outputs": [],
   "source": []
  }
 ],
 "metadata": {
  "kernelspec": {
   "display_name": "Python 3",
   "language": "python",
   "name": "python3"
  },
  "language_info": {
   "codemirror_mode": {
    "name": "ipython",
    "version": 3
   },
   "file_extension": ".py",
   "mimetype": "text/x-python",
   "name": "python",
   "nbconvert_exporter": "python",
   "pygments_lexer": "ipython3",
   "version": "3.7.4"
  }
 },
 "nbformat": 4,
 "nbformat_minor": 4
}
